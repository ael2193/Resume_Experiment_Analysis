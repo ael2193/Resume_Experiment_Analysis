{
 "cells": [
  {
   "cell_type": "markdown",
   "metadata": {},
   "source": [
    "# Fitting Random Forest Model and Model Performance #"
   ]
  },
  {
   "cell_type": "code",
   "execution_count": 1,
   "metadata": {},
   "outputs": [],
   "source": [
    "# Import libraries\n",
    "from sklearn.model_selection import train_test_split\n",
    "from sklearn.model_selection import cross_val_score\n",
    "from sklearn.model_selection import StratifiedKFold \n",
    "from sklearn.model_selection import GridSearchCV\n",
    "from sklearn import metrics\n",
    "import numpy as np\n",
    "import pandas as pd\n",
    "import seaborn as sns\n",
    "import matplotlib.pyplot as plt\n",
    "pd.set_option(\"max_columns\", 100)\n",
    "from imblearn import over_sampling\n",
    "from imblearn.over_sampling import SMOTE\n",
    "from collections import Counter\n",
    "from sklearn.ensemble import RandomForestClassifier\n",
    "from sklearn.feature_selection import SelectFromModel\n"
   ]
  },
  {
   "cell_type": "code",
   "execution_count": 2,
   "metadata": {},
   "outputs": [],
   "source": [
    "# Read in data\n",
    "combined = pd.read_csv(\"data/combined1.csv\")"
   ]
  },
  {
   "cell_type": "code",
   "execution_count": 3,
   "metadata": {},
   "outputs": [
    {
     "data": {
      "text/plain": [
       "female              int64\n",
       "callback            int64\n",
       "skillspeaking     float64\n",
       "skillsocialper    float64\n",
       "east_asian          int64\n",
       "south_asian         int64\n",
       "anglo               int64\n",
       "vancouver           int64\n",
       "toronto             int64\n",
       "montreal            int64\n",
       "dtype: object"
      ]
     },
     "execution_count": 3,
     "metadata": {},
     "output_type": "execute_result"
    }
   ],
   "source": [
    "combined.dtypes"
   ]
  },
  {
   "cell_type": "code",
   "execution_count": 4,
   "metadata": {},
   "outputs": [
    {
     "data": {
      "text/plain": [
       "0    11612\n",
       "1     1281\n",
       "Name: callback, dtype: int64"
      ]
     },
     "execution_count": 4,
     "metadata": {},
     "output_type": "execute_result"
    }
   ],
   "source": [
    "combined['callback'].value_counts()"
   ]
  },
  {
   "cell_type": "code",
   "execution_count": 5,
   "metadata": {},
   "outputs": [],
   "source": [
    "# Use SMOTE to oversample the callback = 1\n",
    "oversample = SMOTE()\n",
    "y = combined['callback']\n",
    "X = combined.drop(['callback'], axis=1)\n",
    "X, y = oversample.fit_resample(X,y)"
   ]
  },
  {
   "cell_type": "code",
   "execution_count": 6,
   "metadata": {},
   "outputs": [
    {
     "data": {
      "text/plain": [
       "1    11612\n",
       "0    11612\n",
       "Name: callback, dtype: int64"
      ]
     },
     "execution_count": 6,
     "metadata": {},
     "output_type": "execute_result"
    }
   ],
   "source": [
    "y.value_counts()"
   ]
  },
  {
   "cell_type": "markdown",
   "metadata": {},
   "source": [
    "My data-set is imbalanced with respect to the classification outcome. In order to properly predict the minory classification (callback = 1), I decided to use the SMOTE oversampling technique.\n",
    "\n",
    "SMOTE works by selecting examples that are close in the feature space, drawing a line between the examples in the feature space and drawing a new sample at a point along that line.\n",
    "\n",
    "[\"Specifically, a random example from the minority class is first chosen. Then k of the nearest neighbors for that example are found. A randomly selected neighbor is chosen and a artificial example is created at a randomly selected point between the two examples in feature space.\"](https://machinelearningmastery.com/smote-oversampling-for-imbalanced-classification/)\n",
    "\n",
    "This procedure can be used to create as many synthetic plausible examples for the minority class that are required."
   ]
  },
  {
   "cell_type": "code",
   "execution_count": 7,
   "metadata": {},
   "outputs": [
    {
     "name": "stdout",
     "output_type": "stream",
     "text": [
      "Class = 0, n =11612 (50.0%)\n",
      "Class = 1, n =11612 (50.0%)\n"
     ]
    }
   ],
   "source": [
    "# Count number of sample for binary variable\n",
    "\n",
    "counter = Counter(y)\n",
    "for k, v in counter.items():\n",
    "    dist = v / len(y) * 100\n",
    "    print(f\"Class = {k}, n ={v} ({dist}%)\")"
   ]
  },
  {
   "cell_type": "markdown",
   "metadata": {},
   "source": [
    "### Preprocessing Data - Combined Data ###"
   ]
  },
  {
   "cell_type": "code",
   "execution_count": 8,
   "metadata": {},
   "outputs": [],
   "source": [
    "# Train test split and use skfold\n",
    "X_train, X_test, y_train, y_test = train_test_split(X, y, random_state = 1)\n",
    "skfold = StratifiedKFold(n_splits=5, shuffle=True)"
   ]
  },
  {
   "cell_type": "markdown",
   "metadata": {},
   "source": [
    "The train-test split is a necessity for supervised learning models. The objective of these supervised learning models is to create a model that can take in new data and accurately predict the inputs and outputs of the new data. To do this, supervised learning models use available data to fit and evaluate the accuracy of the known inputs and ouputs. However if we use just the available data to build the model and evaluate it, the model will just predict the right output for any observation and does not indicate whether the model can generalize well."
   ]
  },
  {
   "cell_type": "markdown",
   "metadata": {},
   "source": [
    "In stratified cross-validation, we split the data such that the proportions between variables are the same in each fold as represented by the whole data-set.\n",
    "\n",
    "To give an example, if 90% of your samples belong to class A and 10% of your samples belong to class B, then stratified cross-validation ensures that in each fold, 90% of samples belong to class A and 10% of samples belong to class B.\n",
    "\n",
    "This is different than in regular k-fold cross-valudation as there is a possibility that one fold may contain all samples of a certain class. Using this fold as a test set would not be very informative about the overall performance of the model.\n",
    "\n",
    "Stratified k-fold cross-validation is generally better used instead of k-fold cross-validation to evaluate a classifier because it has better generalizability and performance."
   ]
  },
  {
   "cell_type": "code",
   "execution_count": 9,
   "metadata": {},
   "outputs": [
    {
     "data": {
      "text/plain": [
       "SelectFromModel(estimator=RandomForestClassifier(criterion='entropy',\n",
       "                                                 max_features='sqrt',\n",
       "                                                 n_estimators=500))"
      ]
     },
     "execution_count": 9,
     "metadata": {},
     "output_type": "execute_result"
    }
   ],
   "source": [
    "# use the select from model with RFC to test what features are important besides the necessary ones (dependent on weights)\n",
    "sel = SelectFromModel(RandomForestClassifier(n_estimators=500, max_features = 'sqrt', criterion= 'entropy'))\n",
    "sel.fit(X_train, y_train)"
   ]
  },
  {
   "cell_type": "markdown",
   "metadata": {},
   "source": [
    "SelectFromModel from Scikit-Learn is based on a Machine Learning Model estimation for selecting the features. The differences are that SelectFromModel feature selection is based on the importance attribute (often is coef_ or feature_importances_ but it could be any callable) threshold. By default, the threshold is the mean."
   ]
  },
  {
   "cell_type": "code",
   "execution_count": 10,
   "metadata": {},
   "outputs": [
    {
     "name": "stdout",
     "output_type": "stream",
     "text": [
      "Index(['skillspeaking', 'skillsocialper'], dtype='object')\n"
     ]
    }
   ],
   "source": [
    "# print selected features\n",
    "selected_feat= X_train.columns[(sel.get_support())]\n",
    "print(selected_feat)"
   ]
  },
  {
   "cell_type": "markdown",
   "metadata": {},
   "source": [
    "From the select from model algorithim, I wanted to inspect again the features that are the mot important when fitting the X train and y train models. As mentioned the skill speaking and the skill social variables seem to have an influence on the call back variable."
   ]
  },
  {
   "cell_type": "code",
   "execution_count": 16,
   "metadata": {},
   "outputs": [],
   "source": [
    "# Fitting the RF model\n",
    "rforest =  RandomForestClassifier()\n",
    "rforest.fit(X_train,y_train)\n",
    "ypred = rforest.predict(X_test)"
   ]
  },
  {
   "cell_type": "code",
   "execution_count": 17,
   "metadata": {},
   "outputs": [
    {
     "name": "stdout",
     "output_type": "stream",
     "text": [
      "RANDOM FOREST\n",
      "Training set score: 0.78\n",
      "Test set score: 0.76\n",
      "Mean Cross Validation, SKFold: 0.76\n"
     ]
    }
   ],
   "source": [
    "# Print out results\n",
    "print(\"RANDOM FOREST\")\n",
    "print(\"Training set score: {:.2f}\".format(rforest.score(X_train, y_train)))\n",
    "print(\"Test set score: {:.2f}\".format(rforest.score(X_test, y_test)))\n",
    "\n",
    "print(\"Mean Cross Validation, SKFold: {:.2f}\".format(np.mean(cross_val_score(rforest, \n",
    "                                                                             X_train, \n",
    "                                                                             y_train, \n",
    "                                                                             cv=skfold,\n",
    "                                                                            scoring = 'accuracy'))))\n",
    "\n",
    "rforest_feature = pd.DataFrame(data=rforest.feature_importances_).T\n",
    "rforest_feature.columns = X.columns\n",
    "rforest_feature.index=['Random Forest Features']"
   ]
  },
  {
   "cell_type": "code",
   "execution_count": 20,
   "metadata": {},
   "outputs": [
    {
     "data": {
      "text/html": [
       "<div>\n",
       "<style scoped>\n",
       "    .dataframe tbody tr th:only-of-type {\n",
       "        vertical-align: middle;\n",
       "    }\n",
       "\n",
       "    .dataframe tbody tr th {\n",
       "        vertical-align: top;\n",
       "    }\n",
       "\n",
       "    .dataframe thead th {\n",
       "        text-align: right;\n",
       "    }\n",
       "</style>\n",
       "<table border=\"1\" class=\"dataframe\">\n",
       "  <thead>\n",
       "    <tr style=\"text-align: right;\">\n",
       "      <th></th>\n",
       "      <th>female</th>\n",
       "      <th>skillspeaking</th>\n",
       "      <th>skillsocialper</th>\n",
       "      <th>east_asian</th>\n",
       "      <th>south_asian</th>\n",
       "      <th>anglo</th>\n",
       "      <th>vancouver</th>\n",
       "      <th>toronto</th>\n",
       "      <th>montreal</th>\n",
       "    </tr>\n",
       "  </thead>\n",
       "  <tbody>\n",
       "    <tr>\n",
       "      <th>Random Forest Features</th>\n",
       "      <td>0.045939</td>\n",
       "      <td>0.297429</td>\n",
       "      <td>0.282649</td>\n",
       "      <td>0.067126</td>\n",
       "      <td>0.073859</td>\n",
       "      <td>0.055427</td>\n",
       "      <td>0.053533</td>\n",
       "      <td>0.068563</td>\n",
       "      <td>0.055476</td>\n",
       "    </tr>\n",
       "  </tbody>\n",
       "</table>\n",
       "</div>"
      ],
      "text/plain": [
       "                          female  skillspeaking  skillsocialper  east_asian  \\\n",
       "Random Forest Features  0.045939       0.297429        0.282649    0.067126   \n",
       "\n",
       "                        south_asian     anglo  vancouver   toronto  montreal  \n",
       "Random Forest Features     0.073859  0.055427   0.053533  0.068563  0.055476  "
      ]
     },
     "execution_count": 20,
     "metadata": {},
     "output_type": "execute_result"
    }
   ],
   "source": [
    "# Random Forest Feature Importance\n",
    "rforest_feature"
   ]
  },
  {
   "cell_type": "code",
   "execution_count": 18,
   "metadata": {},
   "outputs": [],
   "source": [
    "#Grid Search CV for RF model\n",
    "param_grid = { \n",
    "     'n_estimators': [100, 200, 500],\n",
    "     'max_features': ['auto', 'sqrt', 'log2'],\n",
    "     'criterion' :['gini', 'entropy']}"
   ]
  },
  {
   "cell_type": "code",
   "execution_count": 19,
   "metadata": {},
   "outputs": [
    {
     "name": "stdout",
     "output_type": "stream",
     "text": [
      "Best Parameter: {'criterion': 'entropy', 'max_features': 'log2', 'n_estimators': 100}\n"
     ]
    }
   ],
   "source": [
    "CV_rfc = GridSearchCV(estimator=rforest, param_grid=param_grid, cv= skfold)\n",
    "CV_rfc.fit(X_train, y_train)\n",
    "print(\"Best Parameter: {}\".format(CV_rfc.best_params_))"
   ]
  },
  {
   "cell_type": "markdown",
   "metadata": {},
   "source": [
    "Hyperparameter is a characteristic of a model that is external to the model and whose value cannot be estimated from data. Therefore, I will use GridSearchCV to iteratively look over chosen hyper parameters to decide which has the best model fit for the random forest model."
   ]
  },
  {
   "cell_type": "markdown",
   "metadata": {},
   "source": [
    "### Fitting Data ###"
   ]
  },
  {
   "cell_type": "code",
   "execution_count": 21,
   "metadata": {},
   "outputs": [],
   "source": [
    "# Fitting the RF model with Grid Search Parameters\n",
    "rforest_grid =  RandomForestClassifier(n_estimators=100, max_features = 'log2', criterion= 'entropy')\n",
    "rforest_grid.fit(X_train,y_train)\n",
    "ypred = rforest_grid.predict(X_test)"
   ]
  },
  {
   "cell_type": "markdown",
   "metadata": {},
   "source": [
    "100 Estimators: Number of Trees\n",
    "\n",
    "Max Features: Max number of features for splitting a node\n",
    "\n",
    "Criterion: Entropy - Measurement of error"
   ]
  },
  {
   "cell_type": "code",
   "execution_count": 22,
   "metadata": {},
   "outputs": [
    {
     "name": "stdout",
     "output_type": "stream",
     "text": [
      "RANDOM FOREST - Grid Search\n",
      "Training set score: 0.78\n",
      "Test set score: 0.76\n",
      "Mean Cross Validation, SKFold: 0.75\n"
     ]
    }
   ],
   "source": [
    "# Print out results\n",
    "print(\"RANDOM FOREST - Grid Search\")\n",
    "print(\"Training set score: {:.2f}\".format(rforest_grid.score(X_train, y_train)))\n",
    "print(\"Test set score: {:.2f}\".format(rforest_grid.score(X_test, y_test)))\n",
    "\n",
    "print(\"Mean Cross Validation, SKFold: {:.2f}\".format(np.mean(cross_val_score(rforest_grid, \n",
    "                                                                             X_train, \n",
    "                                                                             y_train, \n",
    "                                                                             cv=skfold,\n",
    "                                                                            scoring = 'accuracy'))))\n",
    "\n",
    "rforest_feature = pd.DataFrame(data=rforest_grid.feature_importances_).T\n",
    "rforest_feature.columns = X.columns\n",
    "rforest_feature.index=['Random Forest Features']"
   ]
  },
  {
   "cell_type": "markdown",
   "metadata": {},
   "source": [
    "Random Forest consists of a large number of decision trees and works as an ensemble technique. Random Forests works on the principle of bagging, wherein each decision tree is built on a sample of the training data set with replacement. The results from these multiple decision trees are then aggregated to come up with the final forecast. For the purposes of classification, the mode of all the predictions is used. \n",
    "\n",
    "- Works well with multiple features\n",
    "- Works well with linear or non-linear relationships\n",
    "- Balances bias and variance trade-off"
   ]
  },
  {
   "cell_type": "code",
   "execution_count": 23,
   "metadata": {},
   "outputs": [
    {
     "data": {
      "text/html": [
       "<div>\n",
       "<style scoped>\n",
       "    .dataframe tbody tr th:only-of-type {\n",
       "        vertical-align: middle;\n",
       "    }\n",
       "\n",
       "    .dataframe tbody tr th {\n",
       "        vertical-align: top;\n",
       "    }\n",
       "\n",
       "    .dataframe thead th {\n",
       "        text-align: right;\n",
       "    }\n",
       "</style>\n",
       "<table border=\"1\" class=\"dataframe\">\n",
       "  <thead>\n",
       "    <tr style=\"text-align: right;\">\n",
       "      <th></th>\n",
       "      <th>female</th>\n",
       "      <th>skillspeaking</th>\n",
       "      <th>skillsocialper</th>\n",
       "      <th>east_asian</th>\n",
       "      <th>south_asian</th>\n",
       "      <th>anglo</th>\n",
       "      <th>vancouver</th>\n",
       "      <th>toronto</th>\n",
       "      <th>montreal</th>\n",
       "    </tr>\n",
       "  </thead>\n",
       "  <tbody>\n",
       "    <tr>\n",
       "      <th>Random Forest Features</th>\n",
       "      <td>0.045701</td>\n",
       "      <td>0.299531</td>\n",
       "      <td>0.292071</td>\n",
       "      <td>0.061935</td>\n",
       "      <td>0.062256</td>\n",
       "      <td>0.055183</td>\n",
       "      <td>0.060021</td>\n",
       "      <td>0.062348</td>\n",
       "      <td>0.060954</td>\n",
       "    </tr>\n",
       "  </tbody>\n",
       "</table>\n",
       "</div>"
      ],
      "text/plain": [
       "                          female  skillspeaking  skillsocialper  east_asian  \\\n",
       "Random Forest Features  0.045701       0.299531        0.292071    0.061935   \n",
       "\n",
       "                        south_asian     anglo  vancouver   toronto  montreal  \n",
       "Random Forest Features     0.062256  0.055183   0.060021  0.062348  0.060954  "
      ]
     },
     "execution_count": 23,
     "metadata": {},
     "output_type": "execute_result"
    }
   ],
   "source": [
    "# Random Forest Feature Importance - Grid Search\n",
    "rforest_feature"
   ]
  },
  {
   "cell_type": "code",
   "execution_count": 24,
   "metadata": {},
   "outputs": [
    {
     "name": "stdout",
     "output_type": "stream",
     "text": [
      "              precision    recall  f1-score   support\n",
      "\n",
      "           0       0.75      0.76      0.76      2892\n",
      "           1       0.76      0.75      0.76      2914\n",
      "\n",
      "    accuracy                           0.76      5806\n",
      "   macro avg       0.76      0.76      0.76      5806\n",
      "weighted avg       0.76      0.76      0.76      5806\n",
      "\n"
     ]
    }
   ],
   "source": [
    "print(metrics.classification_report(ypred, y_test))"
   ]
  },
  {
   "cell_type": "markdown",
   "metadata": {},
   "source": [
    "F1 score: For a use case that requires a balance between precision and recall, the F1 score is used. F1 score is the harmonic mean of precision and recall values. It punishes extreme values more to keep the balance."
   ]
  },
  {
   "cell_type": "code",
   "execution_count": 25,
   "metadata": {},
   "outputs": [
    {
     "data": {
      "image/png": "[encoded data removed]",
      "text/plain": [
       "<Figure size 648x648 with 2 Axes>"
      ]
     },
     "metadata": {
      "needs_background": "light"
     },
     "output_type": "display_data"
    }
   ],
   "source": [
    "rf_mat = metrics.confusion_matrix(y_test, ypred)\n",
    "plt.figure(figsize=(9,9))\n",
    "score = (rforest_grid.score(X_test, y_test))\n",
    "sns.heatmap(rf_mat, annot=True, fmt=\".0f\", linewidths=.5, square = True);\n",
    "plt.xlabel('Actual label');\n",
    "plt.ylabel('Predicted label');\n",
    "all_sample_title = 'Accuracy Score: {0}'.format(round(score, 2))\n",
    "plt.title(all_sample_title, size = 15);"
   ]
  },
  {
   "cell_type": "code",
   "execution_count": 26,
   "metadata": {},
   "outputs": [
    {
     "data": {
      "text/html": [
       "<div>\n",
       "<style scoped>\n",
       "    .dataframe tbody tr th:only-of-type {\n",
       "        vertical-align: middle;\n",
       "    }\n",
       "\n",
       "    .dataframe tbody tr th {\n",
       "        vertical-align: top;\n",
       "    }\n",
       "\n",
       "    .dataframe thead th {\n",
       "        text-align: right;\n",
       "    }\n",
       "</style>\n",
       "<table border=\"1\" class=\"dataframe\">\n",
       "  <thead>\n",
       "    <tr style=\"text-align: right;\">\n",
       "      <th></th>\n",
       "      <th>female</th>\n",
       "      <th>callback</th>\n",
       "      <th>skillspeaking</th>\n",
       "      <th>skillsocialper</th>\n",
       "      <th>east_asian</th>\n",
       "      <th>south_asian</th>\n",
       "      <th>anglo</th>\n",
       "      <th>vancouver</th>\n",
       "      <th>toronto</th>\n",
       "      <th>montreal</th>\n",
       "    </tr>\n",
       "  </thead>\n",
       "  <tbody>\n",
       "    <tr>\n",
       "      <th>0</th>\n",
       "      <td>1</td>\n",
       "      <td>0</td>\n",
       "      <td>54.901961</td>\n",
       "      <td>31.25</td>\n",
       "      <td>0</td>\n",
       "      <td>0</td>\n",
       "      <td>1</td>\n",
       "      <td>0</td>\n",
       "      <td>1</td>\n",
       "      <td>0</td>\n",
       "    </tr>\n",
       "    <tr>\n",
       "      <th>1</th>\n",
       "      <td>0</td>\n",
       "      <td>0</td>\n",
       "      <td>54.901961</td>\n",
       "      <td>31.25</td>\n",
       "      <td>0</td>\n",
       "      <td>1</td>\n",
       "      <td>0</td>\n",
       "      <td>0</td>\n",
       "      <td>1</td>\n",
       "      <td>0</td>\n",
       "    </tr>\n",
       "    <tr>\n",
       "      <th>2</th>\n",
       "      <td>0</td>\n",
       "      <td>0</td>\n",
       "      <td>54.901961</td>\n",
       "      <td>31.25</td>\n",
       "      <td>0</td>\n",
       "      <td>1</td>\n",
       "      <td>0</td>\n",
       "      <td>0</td>\n",
       "      <td>1</td>\n",
       "      <td>0</td>\n",
       "    </tr>\n",
       "    <tr>\n",
       "      <th>3</th>\n",
       "      <td>0</td>\n",
       "      <td>0</td>\n",
       "      <td>54.901961</td>\n",
       "      <td>31.25</td>\n",
       "      <td>1</td>\n",
       "      <td>0</td>\n",
       "      <td>0</td>\n",
       "      <td>0</td>\n",
       "      <td>1</td>\n",
       "      <td>0</td>\n",
       "    </tr>\n",
       "    <tr>\n",
       "      <th>4</th>\n",
       "      <td>1</td>\n",
       "      <td>0</td>\n",
       "      <td>74.509804</td>\n",
       "      <td>62.50</td>\n",
       "      <td>0</td>\n",
       "      <td>1</td>\n",
       "      <td>0</td>\n",
       "      <td>0</td>\n",
       "      <td>1</td>\n",
       "      <td>0</td>\n",
       "    </tr>\n",
       "    <tr>\n",
       "      <th>5</th>\n",
       "      <td>0</td>\n",
       "      <td>0</td>\n",
       "      <td>74.509804</td>\n",
       "      <td>62.50</td>\n",
       "      <td>0</td>\n",
       "      <td>0</td>\n",
       "      <td>1</td>\n",
       "      <td>0</td>\n",
       "      <td>1</td>\n",
       "      <td>0</td>\n",
       "    </tr>\n",
       "    <tr>\n",
       "      <th>6</th>\n",
       "      <td>0</td>\n",
       "      <td>0</td>\n",
       "      <td>74.509804</td>\n",
       "      <td>62.50</td>\n",
       "      <td>1</td>\n",
       "      <td>0</td>\n",
       "      <td>0</td>\n",
       "      <td>0</td>\n",
       "      <td>1</td>\n",
       "      <td>0</td>\n",
       "    </tr>\n",
       "    <tr>\n",
       "      <th>7</th>\n",
       "      <td>0</td>\n",
       "      <td>0</td>\n",
       "      <td>74.509804</td>\n",
       "      <td>62.50</td>\n",
       "      <td>0</td>\n",
       "      <td>1</td>\n",
       "      <td>0</td>\n",
       "      <td>0</td>\n",
       "      <td>1</td>\n",
       "      <td>0</td>\n",
       "    </tr>\n",
       "    <tr>\n",
       "      <th>8</th>\n",
       "      <td>1</td>\n",
       "      <td>1</td>\n",
       "      <td>54.901961</td>\n",
       "      <td>31.25</td>\n",
       "      <td>0</td>\n",
       "      <td>0</td>\n",
       "      <td>0</td>\n",
       "      <td>0</td>\n",
       "      <td>1</td>\n",
       "      <td>0</td>\n",
       "    </tr>\n",
       "    <tr>\n",
       "      <th>9</th>\n",
       "      <td>1</td>\n",
       "      <td>1</td>\n",
       "      <td>54.901961</td>\n",
       "      <td>31.25</td>\n",
       "      <td>0</td>\n",
       "      <td>1</td>\n",
       "      <td>0</td>\n",
       "      <td>0</td>\n",
       "      <td>1</td>\n",
       "      <td>0</td>\n",
       "    </tr>\n",
       "  </tbody>\n",
       "</table>\n",
       "</div>"
      ],
      "text/plain": [
       "   female  callback  skillspeaking  skillsocialper  east_asian  south_asian  \\\n",
       "0       1         0      54.901961           31.25           0            0   \n",
       "1       0         0      54.901961           31.25           0            1   \n",
       "2       0         0      54.901961           31.25           0            1   \n",
       "3       0         0      54.901961           31.25           1            0   \n",
       "4       1         0      74.509804           62.50           0            1   \n",
       "5       0         0      74.509804           62.50           0            0   \n",
       "6       0         0      74.509804           62.50           1            0   \n",
       "7       0         0      74.509804           62.50           0            1   \n",
       "8       1         1      54.901961           31.25           0            0   \n",
       "9       1         1      54.901961           31.25           0            1   \n",
       "\n",
       "   anglo  vancouver  toronto  montreal  \n",
       "0      1          0        1         0  \n",
       "1      0          0        1         0  \n",
       "2      0          0        1         0  \n",
       "3      0          0        1         0  \n",
       "4      0          0        1         0  \n",
       "5      1          0        1         0  \n",
       "6      0          0        1         0  \n",
       "7      0          0        1         0  \n",
       "8      0          0        1         0  \n",
       "9      0          0        1         0  "
      ]
     },
     "execution_count": 26,
     "metadata": {},
     "output_type": "execute_result"
    }
   ],
   "source": [
    "combined.head(10)"
   ]
  },
  {
   "cell_type": "markdown",
   "metadata": {},
   "source": [
    "### Testing on User input data ###"
   ]
  },
  {
   "cell_type": "code",
   "execution_count": 80,
   "metadata": {},
   "outputs": [],
   "source": [
    "X_check = pd.DataFrame([[1, 70, 50, 0, 1, 0, 0, 1, 0],\n",
    "                    [1, 80, 40, 0, 0, 1, 0, 0, 1],\n",
    "                    [1, 20, 30, 1, 0, 0, 1, 0, 0]], \n",
    "                    columns=['female', 'skillspeaking', 'skillsocialper', \n",
    "                   'east_asian', 'south_asian','anglo', 'vancouver',\n",
    "                   'toronto', 'montreal'])"
   ]
  },
  {
   "cell_type": "code",
   "execution_count": 81,
   "metadata": {},
   "outputs": [
    {
     "data": {
      "text/html": [
       "<div>\n",
       "<style scoped>\n",
       "    .dataframe tbody tr th:only-of-type {\n",
       "        vertical-align: middle;\n",
       "    }\n",
       "\n",
       "    .dataframe tbody tr th {\n",
       "        vertical-align: top;\n",
       "    }\n",
       "\n",
       "    .dataframe thead th {\n",
       "        text-align: right;\n",
       "    }\n",
       "</style>\n",
       "<table border=\"1\" class=\"dataframe\">\n",
       "  <thead>\n",
       "    <tr style=\"text-align: right;\">\n",
       "      <th></th>\n",
       "      <th>female</th>\n",
       "      <th>skillspeaking</th>\n",
       "      <th>skillsocialper</th>\n",
       "      <th>east_asian</th>\n",
       "      <th>south_asian</th>\n",
       "      <th>anglo</th>\n",
       "      <th>vancouver</th>\n",
       "      <th>toronto</th>\n",
       "      <th>montreal</th>\n",
       "    </tr>\n",
       "  </thead>\n",
       "  <tbody>\n",
       "    <tr>\n",
       "      <th>0</th>\n",
       "      <td>1</td>\n",
       "      <td>70</td>\n",
       "      <td>50</td>\n",
       "      <td>0</td>\n",
       "      <td>1</td>\n",
       "      <td>0</td>\n",
       "      <td>0</td>\n",
       "      <td>1</td>\n",
       "      <td>0</td>\n",
       "    </tr>\n",
       "    <tr>\n",
       "      <th>1</th>\n",
       "      <td>1</td>\n",
       "      <td>80</td>\n",
       "      <td>40</td>\n",
       "      <td>0</td>\n",
       "      <td>0</td>\n",
       "      <td>1</td>\n",
       "      <td>0</td>\n",
       "      <td>0</td>\n",
       "      <td>1</td>\n",
       "    </tr>\n",
       "    <tr>\n",
       "      <th>2</th>\n",
       "      <td>1</td>\n",
       "      <td>20</td>\n",
       "      <td>30</td>\n",
       "      <td>1</td>\n",
       "      <td>0</td>\n",
       "      <td>0</td>\n",
       "      <td>1</td>\n",
       "      <td>0</td>\n",
       "      <td>0</td>\n",
       "    </tr>\n",
       "  </tbody>\n",
       "</table>\n",
       "</div>"
      ],
      "text/plain": [
       "   female  skillspeaking  skillsocialper  east_asian  south_asian  anglo  \\\n",
       "0       1             70              50           0            1      0   \n",
       "1       1             80              40           0            0      1   \n",
       "2       1             20              30           1            0      0   \n",
       "\n",
       "   vancouver  toronto  montreal  \n",
       "0          0        1         0  \n",
       "1          0        0         1  \n",
       "2          1        0         0  "
      ]
     },
     "execution_count": 81,
     "metadata": {},
     "output_type": "execute_result"
    }
   ],
   "source": [
    "X_check"
   ]
  },
  {
   "cell_type": "code",
   "execution_count": 142,
   "metadata": {},
   "outputs": [],
   "source": [
    "y_check = rforest_grid.predict(X_check)\n",
    "# Confidence\n",
    "y_pred_prob = rforest_grid.predict_proba(X_check)\n"
   ]
  },
  {
   "cell_type": "code",
   "execution_count": 134,
   "metadata": {},
   "outputs": [],
   "source": [
    "user_output = np.array(y_check)\n",
    "user_output = user_output.reshape(-1, 3)\n",
    "pred_pro  = np.array(y_pred_prob).T"
   ]
  },
  {
   "cell_type": "code",
   "execution_count": 141,
   "metadata": {},
   "outputs": [
    {
     "data": {
      "text/html": [
       "<div>\n",
       "<style scoped>\n",
       "    .dataframe tbody tr th:only-of-type {\n",
       "        vertical-align: middle;\n",
       "    }\n",
       "\n",
       "    .dataframe tbody tr th {\n",
       "        vertical-align: top;\n",
       "    }\n",
       "\n",
       "    .dataframe thead th {\n",
       "        text-align: right;\n",
       "    }\n",
       "</style>\n",
       "<table border=\"1\" class=\"dataframe\">\n",
       "  <thead>\n",
       "    <tr style=\"text-align: right;\">\n",
       "      <th></th>\n",
       "      <th>Callback</th>\n",
       "      <th>Prob_O</th>\n",
       "      <th>Prob_1</th>\n",
       "    </tr>\n",
       "  </thead>\n",
       "  <tbody>\n",
       "    <tr>\n",
       "      <th>0</th>\n",
       "      <td>0.0</td>\n",
       "      <td>0.980605</td>\n",
       "      <td>0.019395</td>\n",
       "    </tr>\n",
       "    <tr>\n",
       "      <th>1</th>\n",
       "      <td>0.0</td>\n",
       "      <td>0.852427</td>\n",
       "      <td>0.147573</td>\n",
       "    </tr>\n",
       "    <tr>\n",
       "      <th>2</th>\n",
       "      <td>0.0</td>\n",
       "      <td>0.724041</td>\n",
       "      <td>0.275959</td>\n",
       "    </tr>\n",
       "  </tbody>\n",
       "</table>\n",
       "</div>"
      ],
      "text/plain": [
       "   Callback    Prob_O    Prob_1\n",
       "0       0.0  0.980605  0.019395\n",
       "1       0.0  0.852427  0.147573\n",
       "2       0.0  0.724041  0.275959"
      ]
     },
     "execution_count": 141,
     "metadata": {},
     "output_type": "execute_result"
    }
   ],
   "source": [
    "output = pd.DataFrame(np.concatenate((user_output, pred_pro))).transpose()\n",
    "\n",
    "output.rename(columns={0: 'Callback', 1: 'Prob_O', 2: 'Prob_1'})"
   ]
  },
  {
   "cell_type": "markdown",
   "metadata": {},
   "source": [
    "### Save to Pickle and Double Check Fit Model ###"
   ]
  },
  {
   "cell_type": "code",
   "execution_count": null,
   "metadata": {},
   "outputs": [],
   "source": [
    "import pickle"
   ]
  },
  {
   "cell_type": "code",
   "execution_count": null,
   "metadata": {},
   "outputs": [],
   "source": [
    "data = {'model': rforest_grid}\n",
    "with open ('saved_steps.pkl', 'wb') as file:\n",
    "    pickle.dump(data,file)"
   ]
  },
  {
   "cell_type": "code",
   "execution_count": null,
   "metadata": {},
   "outputs": [],
   "source": [
    "with open('saved_steps.pkl', 'rb') as file:\n",
    "    data = pickle.load(file)"
   ]
  },
  {
   "cell_type": "code",
   "execution_count": null,
   "metadata": {},
   "outputs": [],
   "source": [
    "rforest_loaded = data['model']"
   ]
  },
  {
   "cell_type": "code",
   "execution_count": null,
   "metadata": {},
   "outputs": [],
   "source": [
    "y_pred_check = rforest_loaded.predict(X_test)"
   ]
  },
  {
   "cell_type": "code",
   "execution_count": 103,
   "metadata": {},
   "outputs": [
    {
     "data": {
      "text/plain": [
       "array([1, 1, 0, 1, 1, 1, 1, 0, 1, 0, 0])"
      ]
     },
     "execution_count": 103,
     "metadata": {},
     "output_type": "execute_result"
    }
   ],
   "source": [
    "y_pred_check[0:11]"
   ]
  }
 ],
 "metadata": {
  "interpreter": {
   "hash": "3733d301e1e806492a16fc8add9f8c03224b3af0fa7d3850745208f5f87f0b14"
  },
  "kernelspec": {
   "display_name": "Python 3.8.5 64-bit ('3.8.5': pyenv)",
   "name": "python3"
  },
  "language_info": {
   "codemirror_mode": {
    "name": "ipython",
    "version": 3
   },
   "file_extension": ".py",
   "mimetype": "text/x-python",
   "name": "python",
   "nbconvert_exporter": "python",
   "pygments_lexer": "ipython3",
   "version": "3.8.5"
  }
 },
 "nbformat": 4,
 "nbformat_minor": 4
}
