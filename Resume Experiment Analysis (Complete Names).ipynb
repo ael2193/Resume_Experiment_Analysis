{
 "cells": [
  {
   "cell_type": "code",
   "execution_count": 1,
   "source": [
    "from sklearn.model_selection import train_test_split\n",
    "from sklearn.model_selection import cross_val_score\n",
    "from sklearn.model_selection import RepeatedKFold \n",
    "from sklearn.model_selection import StratifiedKFold \n",
    "from sklearn.model_selection import KFold\n",
    "from sklearn import preprocessing\n",
    "from sklearn.pipeline import make_pipeline\n",
    "from sklearn.model_selection import GridSearchCV\n",
    "from sklearn.preprocessing import StandardScaler\n",
    "import numpy as np\n",
    "from sklearn import metrics\n",
    "from matplotlib import ticker"
   ],
   "outputs": [],
   "metadata": {}
  },
  {
   "cell_type": "code",
   "execution_count": 2,
   "source": [
    "import pandas as pd\n",
    "import csv\n",
    "import seaborn as sns\n",
    "import matplotlib.pyplot as plt\n",
    "pd.set_option(\"max_columns\", 100)"
   ],
   "outputs": [],
   "metadata": {}
  },
  {
   "cell_type": "code",
   "execution_count": 3,
   "source": [
    "combined = pd.read_csv(\"data/combined.csv\")\n",
    "a_names = pd.read_csv(\"data/a_names.csv\")\n",
    "e_names = pd.read_csv(\"data/e_names.csv\")"
   ],
   "outputs": [],
   "metadata": {}
  },
  {
   "cell_type": "markdown",
   "source": [
    "## Preprocessing Data - Combined Data ##"
   ],
   "metadata": {}
  },
  {
   "cell_type": "code",
   "execution_count": 4,
   "source": [
    "y = combined['callback']\n",
    "X = combined.drop(['callback'], axis=1)\n"
   ],
   "outputs": [],
   "metadata": {}
  },
  {
   "cell_type": "code",
   "execution_count": 5,
   "source": [
    "X_train, X_test, y_train, y_test = train_test_split(X, y, random_state = 1)"
   ],
   "outputs": [],
   "metadata": {}
  },
  {
   "cell_type": "code",
   "execution_count": 6,
   "source": [
    "kfold = KFold(n_splits=5)\n",
    "skfold = StratifiedKFold(n_splits=5, shuffle=True)\n",
    "rkf = RepeatedKFold(n_splits=5, n_repeats=10)"
   ],
   "outputs": [],
   "metadata": {}
  },
  {
   "cell_type": "code",
   "execution_count": 7,
   "source": [
    "scaler = preprocessing.StandardScaler().fit(X_train)\n",
    "X_train_scaled = scaler.transform(X_train)\n",
    "X_test_scaled = scaler.transform(X_test)"
   ],
   "outputs": [],
   "metadata": {}
  },
  {
   "cell_type": "markdown",
   "source": [
    "## Testing Data  - Penalized Logistic Regression ##"
   ],
   "metadata": {}
  },
  {
   "cell_type": "code",
   "execution_count": 12,
   "source": [
    "from sklearn.linear_model import LogisticRegression\n",
    "logreg_scaled = LogisticRegression(C = 10, penalty = 'l1', solver = 'liblinear').fit(X_train_scaled, y_train)\n",
    "\n",
    "print(\"PENALIZED LOGISTIC REGRESSION (SCALED DATA)\")\n",
    "print(\"Training set score: {:.2f}\".format(logreg_scaled.score(X_train_scaled, y_train)))\n",
    "print(\"Test set score: {:.2f}\".format(logreg_scaled.score(X_test_scaled, y_test)))\n",
    "\n",
    "print(\"Mean Cross Validation, SKFold: {:.2f}\".format(np.mean(cross_val_score(logreg_scaled, \n",
    "                                                                             X_train_scaled, \n",
    "                                                                             y_train, \n",
    "                                                                             cv=skfold,\n",
    "                                                                            scoring = 'accuracy'))))\n",
    "\n",
    "\n",
    "logreg_scaled_coef = pd.DataFrame(data=logreg_scaled.coef_, \n",
    "                                  columns=X.columns, \n",
    "                                  index=['Penalized Scaled Logistic Regression Coefficients'])\n",
    "\n",
    "yhat = logreg_scaled.predict(X_test_scaled)\n",
    "c2 = [logreg_scaled_coef]\n",
    "coefs = pd.concat(c2)\n",
    "coefs.T.sort_values(by = 'Penalized Scaled Logistic Regression Coefficients', ascending=False)"
   ],
   "outputs": [
    {
     "output_type": "stream",
     "name": "stdout",
     "text": [
      "PENALIZED LOGISTIC REGRESSION (SCALED DATA)\n",
      "Training set score: 0.90\n",
      "Test set score: 0.90\n",
      "Mean Cross Validation, SKFold: 0.90\n"
     ]
    },
    {
     "output_type": "execute_result",
     "data": {
      "text/plain": [
       "                        Penalized Scaled Logistic Regression Coefficients\n",
       "canada                                                           0.203671\n",
       "skillspeaking                                                    0.194905\n",
       "female                                                           0.108622\n",
       "language_skills                                                  0.088352\n",
       "exp_highquality                                                  0.086480\n",
       "british                                                          0.071337\n",
       "greek                                                            0.031063\n",
       "certificate                                                      0.029092\n",
       "ma                                                               0.013254\n",
       "indian                                                           0.000000\n",
       "chinese                                                         -0.003241\n",
       "accreditation                                                   -0.019600\n",
       "extracurricular_skills                                          -0.022733\n",
       "skillsocialper                                                  -0.022942\n",
       "ba_quality                                                      -0.028740\n",
       "pakistani                                                       -0.073836\n",
       "reference                                                       -0.084200\n",
       "skillwriting                                                    -0.105524\n",
       "Chn_Cdn                                                         -0.122147"
      ],
      "text/html": [
       "<div>\n",
       "<style scoped>\n",
       "    .dataframe tbody tr th:only-of-type {\n",
       "        vertical-align: middle;\n",
       "    }\n",
       "\n",
       "    .dataframe tbody tr th {\n",
       "        vertical-align: top;\n",
       "    }\n",
       "\n",
       "    .dataframe thead th {\n",
       "        text-align: right;\n",
       "    }\n",
       "</style>\n",
       "<table border=\"1\" class=\"dataframe\">\n",
       "  <thead>\n",
       "    <tr style=\"text-align: right;\">\n",
       "      <th></th>\n",
       "      <th>Penalized Scaled Logistic Regression Coefficients</th>\n",
       "    </tr>\n",
       "  </thead>\n",
       "  <tbody>\n",
       "    <tr>\n",
       "      <th>canada</th>\n",
       "      <td>0.203671</td>\n",
       "    </tr>\n",
       "    <tr>\n",
       "      <th>skillspeaking</th>\n",
       "      <td>0.194905</td>\n",
       "    </tr>\n",
       "    <tr>\n",
       "      <th>female</th>\n",
       "      <td>0.108622</td>\n",
       "    </tr>\n",
       "    <tr>\n",
       "      <th>language_skills</th>\n",
       "      <td>0.088352</td>\n",
       "    </tr>\n",
       "    <tr>\n",
       "      <th>exp_highquality</th>\n",
       "      <td>0.086480</td>\n",
       "    </tr>\n",
       "    <tr>\n",
       "      <th>british</th>\n",
       "      <td>0.071337</td>\n",
       "    </tr>\n",
       "    <tr>\n",
       "      <th>greek</th>\n",
       "      <td>0.031063</td>\n",
       "    </tr>\n",
       "    <tr>\n",
       "      <th>certificate</th>\n",
       "      <td>0.029092</td>\n",
       "    </tr>\n",
       "    <tr>\n",
       "      <th>ma</th>\n",
       "      <td>0.013254</td>\n",
       "    </tr>\n",
       "    <tr>\n",
       "      <th>indian</th>\n",
       "      <td>0.000000</td>\n",
       "    </tr>\n",
       "    <tr>\n",
       "      <th>chinese</th>\n",
       "      <td>-0.003241</td>\n",
       "    </tr>\n",
       "    <tr>\n",
       "      <th>accreditation</th>\n",
       "      <td>-0.019600</td>\n",
       "    </tr>\n",
       "    <tr>\n",
       "      <th>extracurricular_skills</th>\n",
       "      <td>-0.022733</td>\n",
       "    </tr>\n",
       "    <tr>\n",
       "      <th>skillsocialper</th>\n",
       "      <td>-0.022942</td>\n",
       "    </tr>\n",
       "    <tr>\n",
       "      <th>ba_quality</th>\n",
       "      <td>-0.028740</td>\n",
       "    </tr>\n",
       "    <tr>\n",
       "      <th>pakistani</th>\n",
       "      <td>-0.073836</td>\n",
       "    </tr>\n",
       "    <tr>\n",
       "      <th>reference</th>\n",
       "      <td>-0.084200</td>\n",
       "    </tr>\n",
       "    <tr>\n",
       "      <th>skillwriting</th>\n",
       "      <td>-0.105524</td>\n",
       "    </tr>\n",
       "    <tr>\n",
       "      <th>Chn_Cdn</th>\n",
       "      <td>-0.122147</td>\n",
       "    </tr>\n",
       "  </tbody>\n",
       "</table>\n",
       "</div>"
      ]
     },
     "metadata": {},
     "execution_count": 12
    }
   ],
   "metadata": {}
  },
  {
   "cell_type": "code",
   "execution_count": 9,
   "source": [
    "graph = coefs.T.sort_values(by = 'Penalized Scaled Logistic Regression Coefficients', ascending=False)\n",
    "graph['Penalized Scaled Logistic Regression Coefficients'].plot.bar(\n",
    "    title = 'Feature Importance (Logistic Regression)',\n",
    "    legend = False, \n",
    "    figsize = (7,7),\n",
    "    rot = 75,\n",
    "    color=(graph['Penalized Scaled Logistic Regression Coefficients'] > 0).map({True: 'b', False: 'red'}))"
   ],
   "outputs": [
    {
     "output_type": "execute_result",
     "data": {
      "text/plain": [
       "<AxesSubplot:title={'center':'Feature Importance (Logistic Regression)'}>"
      ]
     },
     "metadata": {},
     "execution_count": 9
    },
    {
     "output_type": "display_data",
     "data": {
      "text/plain": [
       "<Figure size 504x504 with 1 Axes>"
      ],
      "image/png": "[encoded data removed]"
     },
     "metadata": {
      "needs_background": "light"
     }
    }
   ],
   "metadata": {}
  },
  {
   "cell_type": "code",
   "execution_count": 19,
   "source": [
    "cm = metrics.confusion_matrix(y_test, yhat)\n",
    "plt.figure(figsize=(9,9))\n",
    "score = (logreg_scaled.score(X_test_scaled, y_test))\n",
    "sns.heatmap(cm, annot=True, fmt=\".0f\", linewidths=.5, square = True, cmap = 'Blues_r');\n",
    "plt.ylabel('Actual label');\n",
    "plt.xlabel('Predicted label');\n",
    "all_sample_title = 'Accuracy Score: {0}'.format(round(score, 2))\n",
    "plt.title(all_sample_title, size = 15);"
   ],
   "outputs": [
    {
     "output_type": "display_data",
     "data": {
      "text/plain": [
       "<Figure size 648x648 with 2 Axes>"
      ],
      "image/png": "[encoded data removed]"
     },
     "metadata": {
      "needs_background": "light"
     }
    }
   ],
   "metadata": {}
  },
  {
   "cell_type": "code",
   "execution_count": 57,
   "source": [
    "from sklearn.metrics import classification_report\n",
    "target_names = ['class 0', 'class 1']\n",
    "print(classification_report(y_test, y_pred, target_names=target_names))"
   ],
   "outputs": [
    {
     "output_type": "stream",
     "name": "stdout",
     "text": [
      "              precision    recall  f1-score   support\n",
      "\n",
      "     class 0       0.90      1.00      0.95      2900\n",
      "     class 1       0.00      0.00      0.00       325\n",
      "\n",
      "    accuracy                           0.90      3225\n",
      "   macro avg       0.45      0.50      0.47      3225\n",
      "weighted avg       0.81      0.90      0.85      3225\n",
      "\n"
     ]
    },
    {
     "output_type": "stream",
     "name": "stderr",
     "text": [
      "/Users/andrewlai/.pyenv/versions/3.8.5/lib/python3.8/site-packages/sklearn/metrics/_classification.py:1221: UndefinedMetricWarning: Precision and F-score are ill-defined and being set to 0.0 in labels with no predicted samples. Use `zero_division` parameter to control this behavior.\n",
      "  _warn_prf(average, modifier, msg_start, len(result))\n"
     ]
    }
   ],
   "metadata": {}
  },
  {
   "cell_type": "markdown",
   "source": [
    "## Testing Data - Random Forest  ##"
   ],
   "metadata": {}
  },
  {
   "cell_type": "code",
   "execution_count": 26,
   "source": [
    "from sklearn.ensemble import RandomForestClassifier\n",
    "rforest = RandomForestClassifier(n_estimators=200)\n",
    "rforest.fit(X_train_scaled,y_train)\n",
    "ypred = rforest.predict(X_test_scaled)"
   ],
   "outputs": [],
   "metadata": {}
  },
  {
   "cell_type": "code",
   "execution_count": 22,
   "source": [
    "print(\"RANDOM FORESST (SCALED DATA)\")\n",
    "print(\"Training set score: {:.2f}\".format(rforest.score(X_train_scaled, y_train)))\n",
    "print(\"Test set score: {:.2f}\".format(rforest.score(X_test_scaled, y_test)))\n",
    "\n",
    "print(\"Mean Cross Validation, SKFold: {:.2f}\".format(np.mean(cross_val_score(rforest, \n",
    "                                                                             X_train_scaled, \n",
    "                                                                             y_train, \n",
    "                                                                             cv=skfold,\n",
    "                                                                            scoring = 'accuracy'))))\n",
    "\n",
    "rforest_feature = pd.DataFrame(data=rforest.feature_importances_).T\n",
    "rforest_feature.columns = X.columns\n",
    "rforest_feature.index=['Random Forest Features']\n",
    "\n",
    "\n",
    "rforest_feature.T.sort_values(by = 'Random Forest Features', ascending=False)"
   ],
   "outputs": [
    {
     "output_type": "stream",
     "name": "stdout",
     "text": [
      "RANDOM FORESST (SCALED DATA)\n",
      "Training set score: 0.95\n",
      "Test set score: 0.88\n",
      "Mean Cross Validation, SKFold: 0.88\n"
     ]
    },
    {
     "output_type": "execute_result",
     "data": {
      "text/plain": [
       "                        Random Forest Features\n",
       "skillspeaking                         0.139640\n",
       "skillwriting                          0.128660\n",
       "skillsocialper                        0.126284\n",
       "extracurricular_skills                0.090236\n",
       "ba_quality                            0.087768\n",
       "female                                0.074984\n",
       "exp_highquality                       0.069921\n",
       "language_skills                       0.067167\n",
       "ma                                    0.060534\n",
       "indian                                0.024589\n",
       "chinese                               0.023794\n",
       "canada                                0.018541\n",
       "british                               0.015858\n",
       "accreditation                         0.015267\n",
       "Chn_Cdn                               0.015148\n",
       "pakistani                             0.012694\n",
       "greek                                 0.011500\n",
       "certificate                           0.009893\n",
       "reference                             0.007520"
      ],
      "text/html": [
       "<div>\n",
       "<style scoped>\n",
       "    .dataframe tbody tr th:only-of-type {\n",
       "        vertical-align: middle;\n",
       "    }\n",
       "\n",
       "    .dataframe tbody tr th {\n",
       "        vertical-align: top;\n",
       "    }\n",
       "\n",
       "    .dataframe thead th {\n",
       "        text-align: right;\n",
       "    }\n",
       "</style>\n",
       "<table border=\"1\" class=\"dataframe\">\n",
       "  <thead>\n",
       "    <tr style=\"text-align: right;\">\n",
       "      <th></th>\n",
       "      <th>Random Forest Features</th>\n",
       "    </tr>\n",
       "  </thead>\n",
       "  <tbody>\n",
       "    <tr>\n",
       "      <th>skillspeaking</th>\n",
       "      <td>0.139640</td>\n",
       "    </tr>\n",
       "    <tr>\n",
       "      <th>skillwriting</th>\n",
       "      <td>0.128660</td>\n",
       "    </tr>\n",
       "    <tr>\n",
       "      <th>skillsocialper</th>\n",
       "      <td>0.126284</td>\n",
       "    </tr>\n",
       "    <tr>\n",
       "      <th>extracurricular_skills</th>\n",
       "      <td>0.090236</td>\n",
       "    </tr>\n",
       "    <tr>\n",
       "      <th>ba_quality</th>\n",
       "      <td>0.087768</td>\n",
       "    </tr>\n",
       "    <tr>\n",
       "      <th>female</th>\n",
       "      <td>0.074984</td>\n",
       "    </tr>\n",
       "    <tr>\n",
       "      <th>exp_highquality</th>\n",
       "      <td>0.069921</td>\n",
       "    </tr>\n",
       "    <tr>\n",
       "      <th>language_skills</th>\n",
       "      <td>0.067167</td>\n",
       "    </tr>\n",
       "    <tr>\n",
       "      <th>ma</th>\n",
       "      <td>0.060534</td>\n",
       "    </tr>\n",
       "    <tr>\n",
       "      <th>indian</th>\n",
       "      <td>0.024589</td>\n",
       "    </tr>\n",
       "    <tr>\n",
       "      <th>chinese</th>\n",
       "      <td>0.023794</td>\n",
       "    </tr>\n",
       "    <tr>\n",
       "      <th>canada</th>\n",
       "      <td>0.018541</td>\n",
       "    </tr>\n",
       "    <tr>\n",
       "      <th>british</th>\n",
       "      <td>0.015858</td>\n",
       "    </tr>\n",
       "    <tr>\n",
       "      <th>accreditation</th>\n",
       "      <td>0.015267</td>\n",
       "    </tr>\n",
       "    <tr>\n",
       "      <th>Chn_Cdn</th>\n",
       "      <td>0.015148</td>\n",
       "    </tr>\n",
       "    <tr>\n",
       "      <th>pakistani</th>\n",
       "      <td>0.012694</td>\n",
       "    </tr>\n",
       "    <tr>\n",
       "      <th>greek</th>\n",
       "      <td>0.011500</td>\n",
       "    </tr>\n",
       "    <tr>\n",
       "      <th>certificate</th>\n",
       "      <td>0.009893</td>\n",
       "    </tr>\n",
       "    <tr>\n",
       "      <th>reference</th>\n",
       "      <td>0.007520</td>\n",
       "    </tr>\n",
       "  </tbody>\n",
       "</table>\n",
       "</div>"
      ]
     },
     "metadata": {},
     "execution_count": 22
    }
   ],
   "metadata": {}
  },
  {
   "cell_type": "code",
   "execution_count": 23,
   "source": [
    "rf_graph = rforest_feature.T.sort_values(by = 'Random Forest Features', ascending=False)\n",
    "rf_graph['Random Forest Features'].plot.bar(\n",
    "    title = 'Feature Importance (Random Forest)',\n",
    "    legend = False, \n",
    "    figsize = (7,7),\n",
    "    rot = 75)"
   ],
   "outputs": [
    {
     "output_type": "execute_result",
     "data": {
      "text/plain": [
       "<AxesSubplot:title={'center':'Feature Importance (Random Forest)'}>"
      ]
     },
     "metadata": {},
     "execution_count": 23
    },
    {
     "output_type": "display_data",
     "data": {
      "text/plain": [
       "<Figure size 504x504 with 1 Axes>"
      ],
      "image/png": "[encoded data removed]"
     },
     "metadata": {
      "needs_background": "light"
     }
    }
   ],
   "metadata": {}
  },
  {
   "cell_type": "code",
   "execution_count": 24,
   "source": [
    "print(metrics.classification_report(ypred, y_test))"
   ],
   "outputs": [
    {
     "output_type": "stream",
     "name": "stdout",
     "text": [
      "              precision    recall  f1-score   support\n",
      "\n",
      "         0.0       0.97      0.90      0.94      3138\n",
      "         1.0       0.04      0.16      0.07        87\n",
      "\n",
      "    accuracy                           0.88      3225\n",
      "   macro avg       0.51      0.53      0.50      3225\n",
      "weighted avg       0.95      0.88      0.91      3225\n",
      "\n"
     ]
    }
   ],
   "metadata": {}
  },
  {
   "cell_type": "code",
   "execution_count": 25,
   "source": [
    "rf_mat = metrics.confusion_matrix(y_test, ypred)\n",
    "plt.figure(figsize=(9,9))\n",
    "score = (rforest.score(X_test_scaled, y_test))\n",
    "sns.heatmap(rf_mat, annot=True, fmt=\".0f\", linewidths=.5, square = True);\n",
    "plt.ylabel('Actual label');\n",
    "plt.xlabel('Predicted label');\n",
    "all_sample_title = 'Accuracy Score: {0}'.format(round(score, 2))\n",
    "plt.title(all_sample_title, size = 15);"
   ],
   "outputs": [
    {
     "output_type": "display_data",
     "data": {
      "text/plain": [
       "<Figure size 648x648 with 2 Axes>"
      ],
      "image/png": "[encoded data removed]"
     },
     "metadata": {
      "needs_background": "light"
     }
    }
   ],
   "metadata": {}
  }
 ],
 "metadata": {
  "kernelspec": {
   "display_name": "Python 3",
   "language": "python",
   "name": "python3"
  },
  "language_info": {
   "codemirror_mode": {
    "name": "ipython",
    "version": 3
   },
   "file_extension": ".py",
   "mimetype": "text/x-python",
   "name": "python",
   "nbconvert_exporter": "python",
   "pygments_lexer": "ipython3",
   "version": "3.8.5"
  }
 },
 "nbformat": 4,
 "nbformat_minor": 4
}