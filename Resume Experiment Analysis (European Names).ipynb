{
 "cells": [
  {
   "cell_type": "code",
   "execution_count": 1,
   "metadata": {},
   "outputs": [],
   "source": [
    "from sklearn.model_selection import train_test_split\n",
    "from sklearn.model_selection import cross_val_score\n",
    "from sklearn.model_selection import RepeatedKFold \n",
    "from sklearn.model_selection import StratifiedKFold \n",
    "from sklearn.model_selection import KFold\n",
    "from sklearn import preprocessing\n",
    "from sklearn.pipeline import make_pipeline\n",
    "from sklearn.model_selection import GridSearchCV\n",
    "from sklearn.preprocessing import StandardScaler\n",
    "import numpy as np\n",
    "from sklearn import metrics\n",
    "from matplotlib import ticker"
   ]
  },
  {
   "cell_type": "code",
   "execution_count": 2,
   "metadata": {},
   "outputs": [],
   "source": [
    "import pandas as pd\n",
    "import csv\n",
    "import seaborn as sns\n",
    "import matplotlib.pyplot as plt\n",
    "pd.set_option(\"max_columns\", 100)"
   ]
  },
  {
   "cell_type": "code",
   "execution_count": 3,
   "metadata": {},
   "outputs": [],
   "source": [
    "e_names = pd.read_csv(\"data/e_names.csv\")"
   ]
  },
  {
   "cell_type": "code",
   "execution_count": 5,
   "metadata": {},
   "outputs": [],
   "source": [
    "y = e_names['callback']\n",
    "X = e_names.drop(['callback'], axis=1)"
   ]
  },
  {
   "cell_type": "markdown",
   "metadata": {},
   "source": [
    "## Preprocessing Data - European Names Data ##"
   ]
  },
  {
   "cell_type": "code",
   "execution_count": 6,
   "metadata": {},
   "outputs": [],
   "source": [
    "X_train, X_test, y_train, y_test = train_test_split(X, y, random_state = 1)"
   ]
  },
  {
   "cell_type": "code",
   "execution_count": 7,
   "metadata": {},
   "outputs": [],
   "source": [
    "kfold = KFold(n_splits=5)\n",
    "skfold = StratifiedKFold(n_splits=5, shuffle=True)\n",
    "rkf = RepeatedKFold(n_splits=5, n_repeats=10)"
   ]
  },
  {
   "cell_type": "code",
   "execution_count": 8,
   "metadata": {},
   "outputs": [],
   "source": [
    "scaler = preprocessing.StandardScaler().fit(X_train)\n",
    "X_train_scaled = scaler.transform(X_train)\n",
    "X_test_scaled = scaler.transform(X_test)"
   ]
  },
  {
   "cell_type": "markdown",
   "metadata": {},
   "source": [
    "## Testing Data  - Penalized Logistic Regression ##"
   ]
  },
  {
   "cell_type": "code",
   "execution_count": 14,
   "metadata": {},
   "outputs": [
    {
     "name": "stdout",
     "output_type": "stream",
     "text": [
      "PENALIZED LOGISTIC REGRESSION (SCALED DATA)\n",
      "Training set score: 0.86\n",
      "Test set score: 0.88\n",
      "Mean Cross Validation, SKFold: 0.86\n"
     ]
    },
    {
     "data": {
      "text/html": [
       "<div>\n",
       "<style scoped>\n",
       "    .dataframe tbody tr th:only-of-type {\n",
       "        vertical-align: middle;\n",
       "    }\n",
       "\n",
       "    .dataframe tbody tr th {\n",
       "        vertical-align: top;\n",
       "    }\n",
       "\n",
       "    .dataframe thead th {\n",
       "        text-align: right;\n",
       "    }\n",
       "</style>\n",
       "<table border=\"1\" class=\"dataframe\">\n",
       "  <thead>\n",
       "    <tr style=\"text-align: right;\">\n",
       "      <th></th>\n",
       "      <th>Penalized Scaled Logistic Regression Coefficients</th>\n",
       "    </tr>\n",
       "  </thead>\n",
       "  <tbody>\n",
       "    <tr>\n",
       "      <th>skillspeaking</th>\n",
       "      <td>0.285296</td>\n",
       "    </tr>\n",
       "    <tr>\n",
       "      <th>female</th>\n",
       "      <td>0.261412</td>\n",
       "    </tr>\n",
       "    <tr>\n",
       "      <th>exp_highquality</th>\n",
       "      <td>0.124001</td>\n",
       "    </tr>\n",
       "    <tr>\n",
       "      <th>certificate</th>\n",
       "      <td>0.077442</td>\n",
       "    </tr>\n",
       "    <tr>\n",
       "      <th>language_skills</th>\n",
       "      <td>0.024268</td>\n",
       "    </tr>\n",
       "    <tr>\n",
       "      <th>skillsocialper</th>\n",
       "      <td>0.021440</td>\n",
       "    </tr>\n",
       "    <tr>\n",
       "      <th>accreditation</th>\n",
       "      <td>0.000000</td>\n",
       "    </tr>\n",
       "    <tr>\n",
       "      <th>reference</th>\n",
       "      <td>0.000000</td>\n",
       "    </tr>\n",
       "    <tr>\n",
       "      <th>extracurricular_skills</th>\n",
       "      <td>-0.042918</td>\n",
       "    </tr>\n",
       "    <tr>\n",
       "      <th>ma</th>\n",
       "      <td>-0.065999</td>\n",
       "    </tr>\n",
       "    <tr>\n",
       "      <th>ba_quality</th>\n",
       "      <td>-0.116462</td>\n",
       "    </tr>\n",
       "    <tr>\n",
       "      <th>skillwriting</th>\n",
       "      <td>-0.151381</td>\n",
       "    </tr>\n",
       "  </tbody>\n",
       "</table>\n",
       "</div>"
      ],
      "text/plain": [
       "                        Penalized Scaled Logistic Regression Coefficients\n",
       "skillspeaking                                                    0.285296\n",
       "female                                                           0.261412\n",
       "exp_highquality                                                  0.124001\n",
       "certificate                                                      0.077442\n",
       "language_skills                                                  0.024268\n",
       "skillsocialper                                                   0.021440\n",
       "accreditation                                                    0.000000\n",
       "reference                                                        0.000000\n",
       "extracurricular_skills                                          -0.042918\n",
       "ma                                                              -0.065999\n",
       "ba_quality                                                      -0.116462\n",
       "skillwriting                                                    -0.151381"
      ]
     },
     "execution_count": 14,
     "metadata": {},
     "output_type": "execute_result"
    }
   ],
   "source": [
    "from sklearn.linear_model import LogisticRegression\n",
    "logreg_scaled = LogisticRegression(C = 10, penalty = 'l1', solver = 'liblinear').fit(X_train_scaled, y_train)\n",
    "\n",
    "print(\"PENALIZED LOGISTIC REGRESSION (SCALED DATA)\")\n",
    "print(\"Training set score: {:.2f}\".format(logreg_scaled.score(X_train_scaled, y_train)))\n",
    "print(\"Test set score: {:.2f}\".format(logreg_scaled.score(X_test_scaled, y_test)))\n",
    "\n",
    "print(\"Mean Cross Validation, SKFold: {:.2f}\".format(np.mean(cross_val_score(logreg_scaled, \n",
    "                                                                             X_train_scaled, \n",
    "                                                                             y_train, \n",
    "                                                                             cv=skfold,\n",
    "                                                                            scoring = 'accuracy'))))\n",
    "\n",
    "\n",
    "logreg_scaled_coef = pd.DataFrame(data=logreg_scaled.coef_, \n",
    "                                  columns=X.columns, \n",
    "                                  index=['Penalized Scaled Logistic Regression Coefficients'])\n",
    "\n",
    "yhat = logreg_scaled.predict(X_test_scaled)\n",
    "c2 = [logreg_scaled_coef]\n",
    "coefs = pd.concat(c2)\n",
    "coefs.T.sort_values(by = 'Penalized Scaled Logistic Regression Coefficients', ascending=False)"
   ]
  },
  {
   "cell_type": "code",
   "execution_count": 15,
   "metadata": {},
   "outputs": [
    {
     "data": {
      "text/plain": [
       "<AxesSubplot:title={'center':'Feature Importance (Logistic Regression)'}>"
      ]
     },
     "execution_count": 15,
     "metadata": {},
     "output_type": "execute_result"
    },
    {
     "data": {
      "image/png": "[encoded data removed]",
      "text/plain": [
       "<Figure size 504x504 with 1 Axes>"
      ]
     },
     "metadata": {
      "needs_background": "light"
     },
     "output_type": "display_data"
    }
   ],
   "source": [
    "graph = coefs.T.sort_values(by = 'Penalized Scaled Logistic Regression Coefficients', ascending=False)\n",
    "graph['Penalized Scaled Logistic Regression Coefficients'].plot.bar(\n",
    "    title = 'Feature Importance (Logistic Regression)',\n",
    "    legend = False, \n",
    "    figsize = (7,7),\n",
    "    rot = 75,\n",
    "    color=(graph['Penalized Scaled Logistic Regression Coefficients'] > 0).map({True: 'b', False: 'red'}))"
   ]
  },
  {
   "cell_type": "code",
   "execution_count": 17,
   "metadata": {},
   "outputs": [
    {
     "data": {
      "image/png": "[encoded data removed]",
      "text/plain": [
       "<Figure size 648x648 with 2 Axes>"
      ]
     },
     "metadata": {
      "needs_background": "light"
     },
     "output_type": "display_data"
    }
   ],
   "source": [
    "cm = metrics.confusion_matrix(y_test, yhat)\n",
    "plt.figure(figsize=(9,9))\n",
    "score = (logreg_scaled.score(X_test_scaled, y_test))\n",
    "sns.heatmap(cm, annot=True, fmt=\".0f\", linewidths=.5, square = True, cmap = 'Blues_r');\n",
    "plt.ylabel('Actual label');\n",
    "plt.xlabel('Predicted label');\n",
    "all_sample_title = 'Accuracy Score: {0}'.format(round(score, 2))\n",
    "plt.title(all_sample_title, size = 15);"
   ]
  },
  {
   "cell_type": "markdown",
   "metadata": {},
   "source": [
    "## Testing Data - Random Forest  ##"
   ]
  },
  {
   "cell_type": "code",
   "execution_count": 20,
   "metadata": {},
   "outputs": [],
   "source": [
    "from sklearn.ensemble import RandomForestClassifier\n",
    "rforest = RandomForestClassifier(n_estimators=200)\n",
    "rforest.fit(X_train_scaled,y_train)\n",
    "ypred = rforest.predict(X_test_scaled)"
   ]
  },
  {
   "cell_type": "code",
   "execution_count": 19,
   "metadata": {},
   "outputs": [
    {
     "name": "stdout",
     "output_type": "stream",
     "text": [
      "RANDOM FORESST (SCALED DATA)\n",
      "Training set score: 0.91\n",
      "Test set score: 0.85\n",
      "Mean Cross Validation, SKFold: 0.83\n"
     ]
    },
    {
     "data": {
      "text/html": [
       "<div>\n",
       "<style scoped>\n",
       "    .dataframe tbody tr th:only-of-type {\n",
       "        vertical-align: middle;\n",
       "    }\n",
       "\n",
       "    .dataframe tbody tr th {\n",
       "        vertical-align: top;\n",
       "    }\n",
       "\n",
       "    .dataframe thead th {\n",
       "        text-align: right;\n",
       "    }\n",
       "</style>\n",
       "<table border=\"1\" class=\"dataframe\">\n",
       "  <thead>\n",
       "    <tr style=\"text-align: right;\">\n",
       "      <th></th>\n",
       "      <th>Random Forest Features</th>\n",
       "    </tr>\n",
       "  </thead>\n",
       "  <tbody>\n",
       "    <tr>\n",
       "      <th>skillspeaking</th>\n",
       "      <td>0.187908</td>\n",
       "    </tr>\n",
       "    <tr>\n",
       "      <th>skillwriting</th>\n",
       "      <td>0.176858</td>\n",
       "    </tr>\n",
       "    <tr>\n",
       "      <th>skillsocialper</th>\n",
       "      <td>0.174210</td>\n",
       "    </tr>\n",
       "    <tr>\n",
       "      <th>extracurricular_skills</th>\n",
       "      <td>0.086697</td>\n",
       "    </tr>\n",
       "    <tr>\n",
       "      <th>ba_quality</th>\n",
       "      <td>0.079714</td>\n",
       "    </tr>\n",
       "    <tr>\n",
       "      <th>language_skills</th>\n",
       "      <td>0.079520</td>\n",
       "    </tr>\n",
       "    <tr>\n",
       "      <th>exp_highquality</th>\n",
       "      <td>0.077236</td>\n",
       "    </tr>\n",
       "    <tr>\n",
       "      <th>ma</th>\n",
       "      <td>0.064136</td>\n",
       "    </tr>\n",
       "    <tr>\n",
       "      <th>female</th>\n",
       "      <td>0.059115</td>\n",
       "    </tr>\n",
       "    <tr>\n",
       "      <th>certificate</th>\n",
       "      <td>0.014607</td>\n",
       "    </tr>\n",
       "    <tr>\n",
       "      <th>accreditation</th>\n",
       "      <td>0.000000</td>\n",
       "    </tr>\n",
       "    <tr>\n",
       "      <th>reference</th>\n",
       "      <td>0.000000</td>\n",
       "    </tr>\n",
       "  </tbody>\n",
       "</table>\n",
       "</div>"
      ],
      "text/plain": [
       "                        Random Forest Features\n",
       "skillspeaking                         0.187908\n",
       "skillwriting                          0.176858\n",
       "skillsocialper                        0.174210\n",
       "extracurricular_skills                0.086697\n",
       "ba_quality                            0.079714\n",
       "language_skills                       0.079520\n",
       "exp_highquality                       0.077236\n",
       "ma                                    0.064136\n",
       "female                                0.059115\n",
       "certificate                           0.014607\n",
       "accreditation                         0.000000\n",
       "reference                             0.000000"
      ]
     },
     "execution_count": 19,
     "metadata": {},
     "output_type": "execute_result"
    }
   ],
   "source": [
    "print(\"RANDOM FORESST (SCALED DATA)\")\n",
    "print(\"Training set score: {:.2f}\".format(rforest.score(X_train_scaled, y_train)))\n",
    "print(\"Test set score: {:.2f}\".format(rforest.score(X_test_scaled, y_test)))\n",
    "\n",
    "print(\"Mean Cross Validation, SKFold: {:.2f}\".format(np.mean(cross_val_score(rforest, \n",
    "                                                                             X_train_scaled, \n",
    "                                                                             y_train, \n",
    "                                                                             cv=skfold,\n",
    "                                                                            scoring = 'accuracy'))))\n",
    "\n",
    "rforest_feature = pd.DataFrame(data=rforest.feature_importances_).T\n",
    "rforest_feature.columns = X.columns\n",
    "rforest_feature.index=['Random Forest Features']\n",
    "\n",
    "\n",
    "rforest_feature.T.sort_values(by = 'Random Forest Features', ascending=False)"
   ]
  },
  {
   "cell_type": "code",
   "execution_count": 21,
   "metadata": {},
   "outputs": [
    {
     "data": {
      "text/plain": [
       "<AxesSubplot:title={'center':'Feature Importance (Random Forest)'}>"
      ]
     },
     "execution_count": 21,
     "metadata": {},
     "output_type": "execute_result"
    },
    {
     "data": {
      "image/png": "[encoded data removed]",
      "text/plain": [
       "<Figure size 504x504 with 1 Axes>"
      ]
     },
     "metadata": {
      "needs_background": "light"
     },
     "output_type": "display_data"
    }
   ],
   "source": [
    "rf_graph = rforest_feature.T.sort_values(by = 'Random Forest Features', ascending=False)\n",
    "rf_graph['Random Forest Features'].plot.bar(\n",
    "    title = 'Feature Importance (Random Forest)',\n",
    "    legend = False, \n",
    "    figsize = (7,7),\n",
    "    rot = 75)"
   ]
  },
  {
   "cell_type": "code",
   "execution_count": 22,
   "metadata": {},
   "outputs": [
    {
     "name": "stdout",
     "output_type": "stream",
     "text": [
      "              precision    recall  f1-score   support\n",
      "\n",
      "         0.0       0.96      0.88      0.92      1031\n",
      "         1.0       0.05      0.14      0.07        44\n",
      "\n",
      "    accuracy                           0.85      1075\n",
      "   macro avg       0.50      0.51      0.49      1075\n",
      "weighted avg       0.92      0.85      0.88      1075\n",
      "\n"
     ]
    }
   ],
   "source": [
    "print(metrics.classification_report(ypred, y_test))"
   ]
  },
  {
   "cell_type": "code",
   "execution_count": 23,
   "metadata": {},
   "outputs": [
    {
     "data": {
      "image/png": "[encoded data removed]",
      "text/plain": [
       "<Figure size 648x648 with 2 Axes>"
      ]
     },
     "metadata": {
      "needs_background": "light"
     },
     "output_type": "display_data"
    }
   ],
   "source": [
    "rf_mat = metrics.confusion_matrix(y_test, ypred)\n",
    "plt.figure(figsize=(9,9))\n",
    "score = (rforest.score(X_test_scaled, y_test))\n",
    "sns.heatmap(rf_mat, annot=True, fmt=\".0f\", linewidths=.5, square = True);\n",
    "plt.ylabel('Actual label');\n",
    "plt.xlabel('Predicted label');\n",
    "all_sample_title = 'Accuracy Score: {0}'.format(round(score, 2))\n",
    "plt.title(all_sample_title, size = 15);"
   ]
  }
 ],
 "metadata": {
  "kernelspec": {
   "display_name": "Python 3",
   "language": "python",
   "name": "python3"
  },
  "language_info": {
   "codemirror_mode": {
    "name": "ipython",
    "version": 3
   },
   "file_extension": ".py",
   "mimetype": "text/x-python",
   "name": "python",
   "nbconvert_exporter": "python",
   "pygments_lexer": "ipython3",
   "version": "3.8.5"
  }
 },
 "nbformat": 4,
 "nbformat_minor": 4
}
