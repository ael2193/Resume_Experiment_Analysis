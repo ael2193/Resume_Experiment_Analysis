{
 "cells": [
  {
   "cell_type": "code",
   "execution_count": 1,
   "source": [
    "from sklearn.model_selection import train_test_split\n",
    "from sklearn.model_selection import cross_val_score\n",
    "from sklearn.model_selection import RepeatedKFold \n",
    "from sklearn.model_selection import StratifiedKFold \n",
    "from sklearn.model_selection import KFold\n",
    "from sklearn import preprocessing\n",
    "from sklearn.pipeline import make_pipeline\n",
    "from sklearn.model_selection import GridSearchCV\n",
    "from sklearn.preprocessing import StandardScaler\n",
    "import numpy as np\n",
    "from sklearn import metrics\n",
    "from matplotlib import ticker"
   ],
   "outputs": [],
   "metadata": {}
  },
  {
   "cell_type": "code",
   "execution_count": 2,
   "source": [
    "import pandas as pd\n",
    "import csv\n",
    "import seaborn as sns\n",
    "import matplotlib.pyplot as plt\n",
    "pd.set_option(\"max_columns\", 100)"
   ],
   "outputs": [],
   "metadata": {}
  },
  {
   "cell_type": "code",
   "execution_count": 3,
   "source": [
    "combined = pd.read_csv(\"data/combined1.csv\")"
   ],
   "outputs": [],
   "metadata": {}
  },
  {
   "cell_type": "code",
   "execution_count": 13,
   "source": [
    "from imblearn import under_sampling\n",
    "from imblearn import over_sampling\n",
    "from imblearn.over_sampling import SMOTE\n",
    "from collections import Counter"
   ],
   "outputs": [],
   "metadata": {}
  },
  {
   "cell_type": "code",
   "execution_count": 9,
   "source": [
    "oversample = SMOTE()"
   ],
   "outputs": [],
   "metadata": {}
  },
  {
   "cell_type": "code",
   "execution_count": 7,
   "source": [
    "y = combined['callback']\n",
    "X = combined.drop(['callback'], axis=1)\n"
   ],
   "outputs": [],
   "metadata": {}
  },
  {
   "cell_type": "code",
   "execution_count": 10,
   "source": [
    "X, y = oversample.fit_resample(X,y)"
   ],
   "outputs": [],
   "metadata": {}
  },
  {
   "cell_type": "code",
   "execution_count": 14,
   "source": [
    "counter = Counter(y)\n",
    "for k, v in counter.items():\n",
    "    dist = v / len(y) * 100\n",
    "    print(f\"Class = {k}, n ={v} ({dist}%)\")"
   ],
   "outputs": [
    {
     "output_type": "stream",
     "name": "stdout",
     "text": [
      "Class = 0.0, n =11612 (50.0%)\n",
      "Class = 1.0, n =11612 (50.0%)\n"
     ]
    }
   ],
   "metadata": {}
  },
  {
   "cell_type": "markdown",
   "source": [
    "## Preprocessing Data - Combined Data ##"
   ],
   "metadata": {}
  },
  {
   "cell_type": "code",
   "execution_count": 15,
   "source": [
    "X_train, X_test, y_train, y_test = train_test_split(X, y, random_state = 1)"
   ],
   "outputs": [],
   "metadata": {}
  },
  {
   "cell_type": "code",
   "execution_count": 16,
   "source": [
    "kfold = KFold(n_splits=5)\n",
    "skfold = StratifiedKFold(n_splits=5, shuffle=True)\n",
    "rkf = RepeatedKFold(n_splits=5, n_repeats=10)"
   ],
   "outputs": [],
   "metadata": {}
  },
  {
   "cell_type": "code",
   "execution_count": 17,
   "source": [
    "scaler = preprocessing.StandardScaler().fit(X_train)\n",
    "X_train_scaled = scaler.transform(X_train)\n",
    "X_test_scaled = scaler.transform(X_test)"
   ],
   "outputs": [],
   "metadata": {}
  },
  {
   "cell_type": "markdown",
   "source": [
    "## Testing Data  - Penalized Logistic Regression ##"
   ],
   "metadata": {}
  },
  {
   "cell_type": "code",
   "execution_count": 18,
   "source": [
    "from sklearn.linear_model import LogisticRegression\n",
    "logreg_scaled = LogisticRegression(C = 10, penalty = 'l1', solver = 'liblinear').fit(X_train_scaled, y_train)\n",
    "\n",
    "print(\"PENALIZED LOGISTIC REGRESSION (SCALED DATA)\")\n",
    "print(\"Training set score: {:.2f}\".format(logreg_scaled.score(X_train_scaled, y_train)))\n",
    "print(\"Test set score: {:.2f}\".format(logreg_scaled.score(X_test_scaled, y_test)))\n",
    "\n",
    "print(\"Mean Cross Validation, SKFold: {:.2f}\".format(np.mean(cross_val_score(logreg_scaled, \n",
    "                                                                             X_train_scaled, \n",
    "                                                                             y_train, \n",
    "                                                                             cv=skfold,\n",
    "                                                                            scoring = 'accuracy'))))\n",
    "\n",
    "\n",
    "logreg_scaled_coef = pd.DataFrame(data=logreg_scaled.coef_, \n",
    "                                  columns=X.columns, \n",
    "                                  index=['Penalized Scaled Logistic Regression Coefficients'])\n",
    "\n",
    "yhat = logreg_scaled.predict(X_test_scaled)\n",
    "c2 = [logreg_scaled_coef]\n",
    "coefs = pd.concat(c2)\n",
    "coefs.T.sort_values(by = 'Penalized Scaled Logistic Regression Coefficients', ascending=False)"
   ],
   "outputs": [
    {
     "output_type": "stream",
     "name": "stderr",
     "text": [
      "/Users/andrewlai/.pyenv/versions/3.8.5/lib/python3.8/site-packages/sklearn/svm/_base.py:985: ConvergenceWarning: Liblinear failed to converge, increase the number of iterations.\n",
      "  warnings.warn(\"Liblinear failed to converge, increase \"\n"
     ]
    },
    {
     "output_type": "stream",
     "name": "stdout",
     "text": [
      "PENALIZED LOGISTIC REGRESSION (SCALED DATA)\n",
      "Training set score: 0.65\n",
      "Test set score: 0.65\n"
     ]
    },
    {
     "output_type": "stream",
     "name": "stderr",
     "text": [
      "/Users/andrewlai/.pyenv/versions/3.8.5/lib/python3.8/site-packages/sklearn/svm/_base.py:985: ConvergenceWarning: Liblinear failed to converge, increase the number of iterations.\n",
      "  warnings.warn(\"Liblinear failed to converge, increase \"\n"
     ]
    },
    {
     "output_type": "stream",
     "name": "stdout",
     "text": [
      "Mean Cross Validation, SKFold: 0.65\n"
     ]
    },
    {
     "output_type": "execute_result",
     "data": {
      "text/plain": [
       "                 Penalized Scaled Logistic Regression Coefficients\n",
       "skillspeaking                                             0.135238\n",
       "female                                                    0.107900\n",
       "language_skills                                           0.016261\n",
       "skillsocialper                                           -0.024033\n",
       "accreditation                                            -0.182366\n",
       "reference                                                -0.213271\n",
       "anglo                                                    -0.858362\n",
       "east_asian                                               -1.075266\n",
       "south_asian                                              -1.088407\n",
       "montreal                                                 -3.112945\n",
       "toronto                                                  -3.424933\n",
       "vancouver                                                -3.965450"
      ],
      "text/html": [
       "<div>\n",
       "<style scoped>\n",
       "    .dataframe tbody tr th:only-of-type {\n",
       "        vertical-align: middle;\n",
       "    }\n",
       "\n",
       "    .dataframe tbody tr th {\n",
       "        vertical-align: top;\n",
       "    }\n",
       "\n",
       "    .dataframe thead th {\n",
       "        text-align: right;\n",
       "    }\n",
       "</style>\n",
       "<table border=\"1\" class=\"dataframe\">\n",
       "  <thead>\n",
       "    <tr style=\"text-align: right;\">\n",
       "      <th></th>\n",
       "      <th>Penalized Scaled Logistic Regression Coefficients</th>\n",
       "    </tr>\n",
       "  </thead>\n",
       "  <tbody>\n",
       "    <tr>\n",
       "      <th>skillspeaking</th>\n",
       "      <td>0.135238</td>\n",
       "    </tr>\n",
       "    <tr>\n",
       "      <th>female</th>\n",
       "      <td>0.107900</td>\n",
       "    </tr>\n",
       "    <tr>\n",
       "      <th>language_skills</th>\n",
       "      <td>0.016261</td>\n",
       "    </tr>\n",
       "    <tr>\n",
       "      <th>skillsocialper</th>\n",
       "      <td>-0.024033</td>\n",
       "    </tr>\n",
       "    <tr>\n",
       "      <th>accreditation</th>\n",
       "      <td>-0.182366</td>\n",
       "    </tr>\n",
       "    <tr>\n",
       "      <th>reference</th>\n",
       "      <td>-0.213271</td>\n",
       "    </tr>\n",
       "    <tr>\n",
       "      <th>anglo</th>\n",
       "      <td>-0.858362</td>\n",
       "    </tr>\n",
       "    <tr>\n",
       "      <th>east_asian</th>\n",
       "      <td>-1.075266</td>\n",
       "    </tr>\n",
       "    <tr>\n",
       "      <th>south_asian</th>\n",
       "      <td>-1.088407</td>\n",
       "    </tr>\n",
       "    <tr>\n",
       "      <th>montreal</th>\n",
       "      <td>-3.112945</td>\n",
       "    </tr>\n",
       "    <tr>\n",
       "      <th>toronto</th>\n",
       "      <td>-3.424933</td>\n",
       "    </tr>\n",
       "    <tr>\n",
       "      <th>vancouver</th>\n",
       "      <td>-3.965450</td>\n",
       "    </tr>\n",
       "  </tbody>\n",
       "</table>\n",
       "</div>"
      ]
     },
     "metadata": {},
     "execution_count": 18
    }
   ],
   "metadata": {}
  },
  {
   "cell_type": "code",
   "execution_count": 19,
   "source": [
    "graph = coefs.T.sort_values(by = 'Penalized Scaled Logistic Regression Coefficients', ascending=False)\n",
    "graph['Penalized Scaled Logistic Regression Coefficients'].plot.bar(\n",
    "    title = 'Feature Importance (Logistic Regression)',\n",
    "    legend = False, \n",
    "    figsize = (7,7),\n",
    "    rot = 75,\n",
    "    color=(graph['Penalized Scaled Logistic Regression Coefficients'] > 0).map({True: 'b', False: 'red'}))"
   ],
   "outputs": [
    {
     "output_type": "execute_result",
     "data": {
      "text/plain": [
       "<AxesSubplot:title={'center':'Feature Importance (Logistic Regression)'}>"
      ]
     },
     "metadata": {},
     "execution_count": 19
    },
    {
     "output_type": "display_data",
     "data": {
      "text/plain": [
       "<Figure size 504x504 with 1 Axes>"
      ],
      "image/png": "[encoded data removed]"
     },
     "metadata": {
      "needs_background": "light"
     }
    }
   ],
   "metadata": {}
  },
  {
   "cell_type": "code",
   "execution_count": 20,
   "source": [
    "cm = metrics.confusion_matrix(y_test, yhat)\n",
    "plt.figure(figsize=(9,9))\n",
    "score = (logreg_scaled.score(X_test_scaled, y_test))\n",
    "sns.heatmap(cm, annot=True, fmt=\".0f\", linewidths=.5, square = True, cmap = 'Blues_r');\n",
    "plt.ylabel('Actual label');\n",
    "plt.xlabel('Predicted label');\n",
    "all_sample_title = 'Accuracy Score: {0}'.format(round(score, 2))\n",
    "plt.title(all_sample_title, size = 15);"
   ],
   "outputs": [
    {
     "output_type": "display_data",
     "data": {
      "text/plain": [
       "<Figure size 648x648 with 2 Axes>"
      ],
      "image/png": "[encoded data removed]"
     },
     "metadata": {
      "needs_background": "light"
     }
    }
   ],
   "metadata": {}
  },
  {
   "cell_type": "code",
   "execution_count": 21,
   "source": [
    "from sklearn.metrics import classification_report\n",
    "target_names = ['class 0', 'class 1']\n",
    "print(classification_report(y_test, yhat, target_names=target_names))"
   ],
   "outputs": [
    {
     "output_type": "stream",
     "name": "stdout",
     "text": [
      "              precision    recall  f1-score   support\n",
      "\n",
      "     class 0       0.63      0.74      0.68      2925\n",
      "     class 1       0.68      0.56      0.61      2881\n",
      "\n",
      "    accuracy                           0.65      5806\n",
      "   macro avg       0.65      0.65      0.65      5806\n",
      "weighted avg       0.65      0.65      0.65      5806\n",
      "\n"
     ]
    }
   ],
   "metadata": {}
  },
  {
   "cell_type": "markdown",
   "source": [
    "## Testing Data - Random Forest  ##"
   ],
   "metadata": {}
  },
  {
   "cell_type": "code",
   "execution_count": 22,
   "source": [
    "from sklearn.ensemble import RandomForestClassifier\n",
    "rforest = RandomForestClassifier(n_estimators=200)\n",
    "rforest.fit(X_train_scaled,y_train)\n",
    "ypred = rforest.predict(X_test_scaled)"
   ],
   "outputs": [],
   "metadata": {}
  },
  {
   "cell_type": "code",
   "execution_count": 23,
   "source": [
    "print(\"RANDOM FORESST (SCALED DATA)\")\n",
    "print(\"Training set score: {:.2f}\".format(rforest.score(X_train_scaled, y_train)))\n",
    "print(\"Test set score: {:.2f}\".format(rforest.score(X_test_scaled, y_test)))\n",
    "\n",
    "print(\"Mean Cross Validation, SKFold: {:.2f}\".format(np.mean(cross_val_score(rforest, \n",
    "                                                                             X_train_scaled, \n",
    "                                                                             y_train, \n",
    "                                                                             cv=skfold,\n",
    "                                                                            scoring = 'accuracy'))))\n",
    "\n",
    "rforest_feature = pd.DataFrame(data=rforest.feature_importances_).T\n",
    "rforest_feature.columns = X.columns\n",
    "rforest_feature.index=['Random Forest Features']\n",
    "\n",
    "\n",
    "rforest_feature.T.sort_values(by = 'Random Forest Features', ascending=False)"
   ],
   "outputs": [
    {
     "output_type": "stream",
     "name": "stdout",
     "text": [
      "RANDOM FORESST (SCALED DATA)\n",
      "Training set score: 0.85\n",
      "Test set score: 0.83\n",
      "Mean Cross Validation, SKFold: 0.82\n"
     ]
    },
    {
     "output_type": "execute_result",
     "data": {
      "text/plain": [
       "                 Random Forest Features\n",
       "skillspeaking                  0.224428\n",
       "skillsocialper                 0.190428\n",
       "female                         0.164067\n",
       "language_skills                0.130717\n",
       "toronto                        0.049550\n",
       "south_asian                    0.049397\n",
       "east_asian                     0.048152\n",
       "vancouver                      0.043678\n",
       "anglo                          0.040258\n",
       "montreal                       0.038554\n",
       "accreditation                  0.011670\n",
       "reference                      0.009101"
      ],
      "text/html": [
       "<div>\n",
       "<style scoped>\n",
       "    .dataframe tbody tr th:only-of-type {\n",
       "        vertical-align: middle;\n",
       "    }\n",
       "\n",
       "    .dataframe tbody tr th {\n",
       "        vertical-align: top;\n",
       "    }\n",
       "\n",
       "    .dataframe thead th {\n",
       "        text-align: right;\n",
       "    }\n",
       "</style>\n",
       "<table border=\"1\" class=\"dataframe\">\n",
       "  <thead>\n",
       "    <tr style=\"text-align: right;\">\n",
       "      <th></th>\n",
       "      <th>Random Forest Features</th>\n",
       "    </tr>\n",
       "  </thead>\n",
       "  <tbody>\n",
       "    <tr>\n",
       "      <th>skillspeaking</th>\n",
       "      <td>0.224428</td>\n",
       "    </tr>\n",
       "    <tr>\n",
       "      <th>skillsocialper</th>\n",
       "      <td>0.190428</td>\n",
       "    </tr>\n",
       "    <tr>\n",
       "      <th>female</th>\n",
       "      <td>0.164067</td>\n",
       "    </tr>\n",
       "    <tr>\n",
       "      <th>language_skills</th>\n",
       "      <td>0.130717</td>\n",
       "    </tr>\n",
       "    <tr>\n",
       "      <th>toronto</th>\n",
       "      <td>0.049550</td>\n",
       "    </tr>\n",
       "    <tr>\n",
       "      <th>south_asian</th>\n",
       "      <td>0.049397</td>\n",
       "    </tr>\n",
       "    <tr>\n",
       "      <th>east_asian</th>\n",
       "      <td>0.048152</td>\n",
       "    </tr>\n",
       "    <tr>\n",
       "      <th>vancouver</th>\n",
       "      <td>0.043678</td>\n",
       "    </tr>\n",
       "    <tr>\n",
       "      <th>anglo</th>\n",
       "      <td>0.040258</td>\n",
       "    </tr>\n",
       "    <tr>\n",
       "      <th>montreal</th>\n",
       "      <td>0.038554</td>\n",
       "    </tr>\n",
       "    <tr>\n",
       "      <th>accreditation</th>\n",
       "      <td>0.011670</td>\n",
       "    </tr>\n",
       "    <tr>\n",
       "      <th>reference</th>\n",
       "      <td>0.009101</td>\n",
       "    </tr>\n",
       "  </tbody>\n",
       "</table>\n",
       "</div>"
      ]
     },
     "metadata": {},
     "execution_count": 23
    }
   ],
   "metadata": {}
  },
  {
   "cell_type": "code",
   "execution_count": 24,
   "source": [
    "rf_graph = rforest_feature.T.sort_values(by = 'Random Forest Features', ascending=False)\n",
    "rf_graph['Random Forest Features'].plot.bar(\n",
    "    title = 'Feature Importance (Random Forest)',\n",
    "    legend = False, \n",
    "    figsize = (7,7),\n",
    "    rot = 75)"
   ],
   "outputs": [
    {
     "output_type": "execute_result",
     "data": {
      "text/plain": [
       "<AxesSubplot:title={'center':'Feature Importance (Random Forest)'}>"
      ]
     },
     "metadata": {},
     "execution_count": 24
    },
    {
     "output_type": "display_data",
     "data": {
      "text/plain": [
       "<Figure size 504x504 with 1 Axes>"
      ],
      "image/png": "[encoded data removed]"
     },
     "metadata": {
      "needs_background": "light"
     }
    }
   ],
   "metadata": {}
  },
  {
   "cell_type": "code",
   "execution_count": 25,
   "source": [
    "print(metrics.classification_report(ypred, y_test))"
   ],
   "outputs": [
    {
     "output_type": "stream",
     "name": "stdout",
     "text": [
      "              precision    recall  f1-score   support\n",
      "\n",
      "         0.0       0.82      0.84      0.83      2856\n",
      "         1.0       0.84      0.82      0.83      2950\n",
      "\n",
      "    accuracy                           0.83      5806\n",
      "   macro avg       0.83      0.83      0.83      5806\n",
      "weighted avg       0.83      0.83      0.83      5806\n",
      "\n"
     ]
    }
   ],
   "metadata": {}
  },
  {
   "cell_type": "code",
   "execution_count": 26,
   "source": [
    "rf_mat = metrics.confusion_matrix(y_test, ypred)\n",
    "plt.figure(figsize=(9,9))\n",
    "score = (rforest.score(X_test_scaled, y_test))\n",
    "sns.heatmap(rf_mat, annot=True, fmt=\".0f\", linewidths=.5, square = True);\n",
    "plt.ylabel('Actual label');\n",
    "plt.xlabel('Predicted label');\n",
    "all_sample_title = 'Accuracy Score: {0}'.format(round(score, 2))\n",
    "plt.title(all_sample_title, size = 15);"
   ],
   "outputs": [
    {
     "output_type": "display_data",
     "data": {
      "text/plain": [
       "<Figure size 648x648 with 2 Axes>"
      ],
      "image/png": "[encoded data removed]"
     },
     "metadata": {
      "needs_background": "light"
     }
    }
   ],
   "metadata": {}
  }
 ],
 "metadata": {
  "kernelspec": {
   "name": "python3",
   "display_name": "Python 3.8.5 64-bit ('3.8.5': pyenv)"
  },
  "language_info": {
   "name": "python",
   "version": "3.8.5",
   "mimetype": "text/x-python",
   "codemirror_mode": {
    "name": "ipython",
    "version": 3
   },
   "pygments_lexer": "ipython3",
   "nbconvert_exporter": "python",
   "file_extension": ".py"
  },
  "interpreter": {
   "hash": "3733d301e1e806492a16fc8add9f8c03224b3af0fa7d3850745208f5f87f0b14"
  }
 },
 "nbformat": 4,
 "nbformat_minor": 4
}